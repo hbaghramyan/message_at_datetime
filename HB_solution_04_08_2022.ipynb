{
 "cells": [
  {
   "cell_type": "markdown",
   "id": "a2dc50b5-a21d-43ff-b29b-b810a0c7e6dc",
   "metadata": {},
   "source": [
    "Pre-Screening Task Python\n",
    "\n",
    "Thank you for your application to KL Healthcare Solutions GmbH. Since we do not require any pre-qualifications, we will test your programming skills in several tasks and want to see how you approach and solve problems.  \n",
    "\n",
    "Task\n",
    "Write a program in any programming language that allows the user to enter a date and time, whereupon a simple message will be displayed at the inserted time.\n",
    "Write meaningful unit tests for the program. \n",
    "Create the program as a public Git repository at GitHub.com. \n",
    "Then send the link to the Git repository to: yannick.kupferschmidt@easymedbox.de  \n",
    "If you have any questions, you can also contact this mail address.\n",
    "\n",
    "Example program flow\n",
    "How much data do you want to enter? \t3\n",
    "Please enter a date: 20.05.2022 \n",
    "Please enter a time: 15:00\n",
    "Please enter a date: 21.05.2022\n",
    "Please enter the time: 12:00\n",
    "Please enter the date: 22.05.2022\n",
    "Please enter the time: 07:00\n",
    "Thank you very much. I will notify them!\n",
    "...\n",
    "The first date has been reached! (20.05.2022 - 15:00)\n",
    "The second date has been reached! (21.05.2022 - 12:00)\n",
    "The third date was reached! (22.05.2022 - 07:00)"
   ]
  },
  {
   "cell_type": "code",
   "execution_count": 1,
   "id": "14ef4cd5-3aa1-4298-8e51-5aab6a4df781",
   "metadata": {},
   "outputs": [],
   "source": [
    "# importing necessary libraries\n",
    "from datetime import datetime\n",
    "from time import sleep\n",
    "from functions import *"
   ]
  },
  {
   "cell_type": "code",
   "execution_count": 2,
   "id": "f06161e1-c2dd-4a6d-ac63-ed4b6506e7a1",
   "metadata": {},
   "outputs": [],
   "source": [
    "strd = \"%d.%m.%Y\" # string variable for date formate\n",
    "strt = \"%H:%M:%S\" # string variable for time formate"
   ]
  },
  {
   "cell_type": "code",
   "execution_count": 6,
   "id": "566affa7-9e6c-4658-a926-f15fa04032ff",
   "metadata": {},
   "outputs": [
    {
     "name": "stdin",
     "output_type": "stream",
     "text": [
      "How much data do you want to enter?:  2\n"
     ]
    }
   ],
   "source": [
    "# Run this cell to input number of entries\n",
    "n = nentry()"
   ]
  },
  {
   "cell_type": "code",
   "execution_count": 11,
   "id": "7f88d087-4db0-4ef1-9ea0-2b2defa75d1f",
   "metadata": {},
   "outputs": [
    {
     "name": "stdin",
     "output_type": "stream",
     "text": [
      "Please enter a date in DD.MM.YYYY format: 04.08.2022\n",
      "Please enter a time in HH:MM:SS format: 23:44:30\n",
      "Please enter a date in DD.MM.YYYY format: 04.08.2022\n",
      "Please enter a time in HH:MM:SS format: 23:44:32\n"
     ]
    },
    {
     "name": "stdout",
     "output_type": "stream",
     "text": [
      "Thank you very much. I will notify them!\n",
      "You've entered 2 correct datetimes:\n",
      "23:44:30 04.08.2022\n",
      "23:44:32 04.08.2022\n"
     ]
    }
   ],
   "source": [
    "# Run this cell to input time and date\n",
    "dt = dtime(n, strd, strt)"
   ]
  },
  {
   "cell_type": "markdown",
   "id": "2bfb5313-cf09-40ef-967a-22935c5e02d1",
   "metadata": {},
   "source": [
    "04.08.2022 16:40:35\n",
    "04.08.2022 16:40:55"
   ]
  },
  {
   "cell_type": "code",
   "execution_count": 12,
   "id": "762fb410-ceaf-46db-af71-63dbb9c5eee4",
   "metadata": {},
   "outputs": [
    {
     "name": "stdout",
     "output_type": "stream",
     "text": [
      "The datetime  23:44:30 04.08.2022 has been reached.\n",
      "The datetime  23:44:32 04.08.2022 has been reached.\n"
     ]
    }
   ],
   "source": [
    "# Run this cell to print time and date\n",
    "print_dt(dt, strd, strt)"
   ]
  },
  {
   "cell_type": "markdown",
   "id": "4cee6126-035d-4086-902f-107f37e5e401",
   "metadata": {},
   "source": [
    "### tests for nentry function"
   ]
  },
  {
   "cell_type": "code",
   "execution_count": 14,
   "id": "7a886055-a3f4-4d27-b59b-9f41b16792f2",
   "metadata": {},
   "outputs": [
    {
     "name": "stdin",
     "output_type": "stream",
     "text": [
      "How much data do you want to enter?:  -5\n"
     ]
    },
    {
     "name": "stdout",
     "output_type": "stream",
     "text": [
      "Please enter a natural number.\n"
     ]
    }
   ],
   "source": [
    "n = nentry()"
   ]
  },
  {
   "cell_type": "code",
   "execution_count": 15,
   "id": "89619684-1852-4c5d-bcdd-300c31f6e7cf",
   "metadata": {},
   "outputs": [
    {
     "name": "stdin",
     "output_type": "stream",
     "text": [
      "How much data do you want to enter?:  a\n"
     ]
    },
    {
     "name": "stdout",
     "output_type": "stream",
     "text": [
      "Please enter a natural number.\n"
     ]
    }
   ],
   "source": [
    "n = nentry()"
   ]
  },
  {
   "cell_type": "code",
   "execution_count": 16,
   "id": "7fa17256-64e9-42fe-a5ef-7d4fb38e1396",
   "metadata": {},
   "outputs": [
    {
     "name": "stdin",
     "output_type": "stream",
     "text": [
      "How much data do you want to enter?:  6\n"
     ]
    }
   ],
   "source": [
    "n = nentry()"
   ]
  },
  {
   "cell_type": "code",
   "execution_count": 17,
   "id": "09dd5155-824c-4f93-b2e0-e00d1e010af5",
   "metadata": {},
   "outputs": [
    {
     "name": "stdin",
     "output_type": "stream",
     "text": [
      "How much data do you want to enter?:  0\n"
     ]
    },
    {
     "name": "stdout",
     "output_type": "stream",
     "text": [
      "Please enter a natural number.\n"
     ]
    }
   ],
   "source": [
    "n = nentry()"
   ]
  },
  {
   "cell_type": "markdown",
   "id": "4c63d287-ab76-4e00-b0e9-ddf1c1574f8a",
   "metadata": {},
   "source": [
    "### tests for validate function"
   ]
  },
  {
   "cell_type": "code",
   "execution_count": 4,
   "id": "4b33d592-8c02-457a-a9dc-98b1a3e06b6c",
   "metadata": {},
   "outputs": [
    {
     "data": {
      "text/plain": [
       "True"
      ]
     },
     "execution_count": 4,
     "metadata": {},
     "output_type": "execute_result"
    }
   ],
   "source": [
    "validate(\"23:10:55\", strt)"
   ]
  },
  {
   "cell_type": "code",
   "execution_count": 5,
   "id": "1a27261e-4b79-492d-ab46-f7cfcbb80da7",
   "metadata": {},
   "outputs": [
    {
     "data": {
      "text/plain": [
       "False"
      ]
     },
     "execution_count": 5,
     "metadata": {},
     "output_type": "execute_result"
    }
   ],
   "source": [
    "validate(\"23:10:5\", strt)"
   ]
  },
  {
   "cell_type": "code",
   "execution_count": 6,
   "id": "50ef2d7d-626e-4cac-8afb-581f4381c50a",
   "metadata": {},
   "outputs": [
    {
     "data": {
      "text/plain": [
       "False"
      ]
     },
     "execution_count": 6,
     "metadata": {},
     "output_type": "execute_result"
    }
   ],
   "source": [
    "validate(\"23:10:55\", strd)"
   ]
  },
  {
   "cell_type": "code",
   "execution_count": 8,
   "id": "1d256ce7-d546-49ef-9a6b-10267e3fdc99",
   "metadata": {},
   "outputs": [
    {
     "data": {
      "text/plain": [
       "True"
      ]
     },
     "execution_count": 8,
     "metadata": {},
     "output_type": "execute_result"
    }
   ],
   "source": [
    "validate(\"04.08.2022\", strd)"
   ]
  },
  {
   "cell_type": "code",
   "execution_count": 9,
   "id": "a31dd33f-7224-4f38-8e27-0f0f6b0c31b5",
   "metadata": {},
   "outputs": [
    {
     "data": {
      "text/plain": [
       "False"
      ]
     },
     "execution_count": 9,
     "metadata": {},
     "output_type": "execute_result"
    }
   ],
   "source": [
    "validate(\"04.08.202\", strd)"
   ]
  },
  {
   "cell_type": "code",
   "execution_count": 10,
   "id": "a708e900-7d64-4c93-ba15-7a550a52907a",
   "metadata": {},
   "outputs": [
    {
     "data": {
      "text/plain": [
       "False"
      ]
     },
     "execution_count": 10,
     "metadata": {},
     "output_type": "execute_result"
    }
   ],
   "source": [
    "validate(\"04.08.202\", strt)"
   ]
  },
  {
   "cell_type": "markdown",
   "id": "71ac162e-d078-4f17-ab1a-4e64b8cb41f6",
   "metadata": {},
   "source": [
    "### tests for dtime function"
   ]
  },
  {
   "cell_type": "code",
   "execution_count": 4,
   "id": "044e9ec5-8b89-4b51-9bff-f18f1d2e6861",
   "metadata": {},
   "outputs": [
    {
     "name": "stdin",
     "output_type": "stream",
     "text": [
      "Please enter a date in DD.MM.YYYY format: 04.08.2022\n",
      "Please enter a time in HH:MM:SS format: 12:12:12\n"
     ]
    },
    {
     "name": "stdout",
     "output_type": "stream",
     "text": [
      "Please enter a time and date not in the past.\n"
     ]
    },
    {
     "name": "stdin",
     "output_type": "stream",
     "text": [
      "Please enter a date in DD.MM.YYYY format: 04.08.2022\n",
      "Please enter a time in HH:MM:SS format: 23:1:12\n"
     ]
    },
    {
     "name": "stdout",
     "output_type": "stream",
     "text": [
      "Please enter a time in the correct format.\n",
      "You've entered 0 correct datetimes.\n"
     ]
    },
    {
     "data": {
      "text/plain": [
       "[]"
      ]
     },
     "execution_count": 4,
     "metadata": {},
     "output_type": "execute_result"
    }
   ],
   "source": [
    "dtime(n, strd, strt)"
   ]
  },
  {
   "cell_type": "code",
   "execution_count": 13,
   "id": "c025b91e-c85f-4225-9558-9830799342ce",
   "metadata": {},
   "outputs": [
    {
     "name": "stdin",
     "output_type": "stream",
     "text": [
      "Please enter a date in DD.MM.YYYY format: 03.08.2022\n",
      "Please enter a time in HH:MM:SS format: 12:12:12\n"
     ]
    },
    {
     "name": "stdout",
     "output_type": "stream",
     "text": [
      "Please enter a time and date not in the past.\n"
     ]
    },
    {
     "name": "stdin",
     "output_type": "stream",
     "text": [
      "Please enter a date in DD.MM.YYYY format: 04.08.2022\n",
      "Please enter a time in HH:MM:SS format: 23:50:12\n"
     ]
    },
    {
     "name": "stdout",
     "output_type": "stream",
     "text": [
      "Thank you very much. I will notify them!\n",
      "You've entered 1 correct datetimes:\n",
      "23:50:12 04.08.2022\n"
     ]
    },
    {
     "data": {
      "text/plain": [
       "[datetime.datetime(2022, 8, 4, 23, 50, 12)]"
      ]
     },
     "execution_count": 13,
     "metadata": {},
     "output_type": "execute_result"
    }
   ],
   "source": [
    "dtime(n, strd, strt)"
   ]
  },
  {
   "cell_type": "code",
   "execution_count": null,
   "id": "7aa292c3-15b0-480c-97de-4e5b21563490",
   "metadata": {},
   "outputs": [],
   "source": []
  }
 ],
 "metadata": {
  "kernelspec": {
   "display_name": "Python 3 (ipykernel)",
   "language": "python",
   "name": "python3"
  },
  "language_info": {
   "codemirror_mode": {
    "name": "ipython",
    "version": 3
   },
   "file_extension": ".py",
   "mimetype": "text/x-python",
   "name": "python",
   "nbconvert_exporter": "python",
   "pygments_lexer": "ipython3",
   "version": "3.10.4"
  }
 },
 "nbformat": 4,
 "nbformat_minor": 5
}
